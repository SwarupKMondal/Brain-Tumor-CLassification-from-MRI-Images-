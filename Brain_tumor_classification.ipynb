{
 "cells": [
  {
   "cell_type": "code",
   "execution_count": 18,
   "id": "9db99756",
   "metadata": {},
   "outputs": [],
   "source": [
    "import tensorflow as tf\n",
    "import pandas as pd\n",
    "import matplotlib.pyplot as plt\n",
    "import cv2 as cv\n",
    "import numpy as np\n",
    "from tensorflow.keras.preprocessing.image import ImageDataGenerator\n",
    "from tensorflow.keras.preprocessing import image\n",
    "from datetime import datetime\n",
    "from sklearn.model_selection import train_test_split\n"
   ]
  },
  {
   "cell_type": "code",
   "execution_count": 19,
   "id": "72f01869",
   "metadata": {},
   "outputs": [],
   "source": [
    "imgd=ImageDataGenerator(rescale=1/255)"
   ]
  },
  {
   "cell_type": "code",
   "execution_count": 20,
   "id": "46875a3c",
   "metadata": {},
   "outputs": [
    {
     "name": "stdout",
     "output_type": "stream",
     "text": [
      "Found 2870 images belonging to 4 classes.\n"
     ]
    }
   ],
   "source": [
    "tumor_dataset=imgd.flow_from_directory('archive (7)\\Training')"
   ]
  },
  {
   "cell_type": "code",
   "execution_count": 21,
   "id": "bd8f3f5b",
   "metadata": {},
   "outputs": [
    {
     "data": {
      "text/plain": [
       "{'glioma_tumor': 0, 'meningioma_tumor': 1, 'no_tumor': 2, 'pituitary_tumor': 3}"
      ]
     },
     "execution_count": 21,
     "metadata": {},
     "output_type": "execute_result"
    }
   ],
   "source": [
    "tumor_dataset.class_indices"
   ]
  },
  {
   "cell_type": "code",
   "execution_count": 22,
   "id": "55a922b7",
   "metadata": {},
   "outputs": [
    {
     "data": {
      "text/plain": [
       "3    827\n",
       "0    826\n",
       "1    822\n",
       "2    395\n",
       "dtype: int64"
      ]
     },
     "execution_count": 22,
     "metadata": {},
     "output_type": "execute_result"
    }
   ],
   "source": [
    "classes=pd.DataFrame(tumor_dataset.classes)\n",
    "classes.value_counts()"
   ]
  },
  {
   "cell_type": "code",
   "execution_count": 23,
   "id": "86a834a4",
   "metadata": {},
   "outputs": [
    {
     "name": "stdout",
     "output_type": "stream",
     "text": [
      "Found 2297 images belonging to 4 classes.\n",
      "Found 573 images belonging to 4 classes.\n",
      "Found 394 images belonging to 4 classes.\n"
     ]
    }
   ],
   "source": [
    "path_train = 'archive (7)\\Training'\n",
    "path_test = 'archive (7)\\Testing'\n",
    "\n",
    "import tensorflow as tf\n",
    "import tensorflow.keras.layers as tfl\n",
    "\n",
    "train_datagen = tf.keras.preprocessing.image.ImageDataGenerator(rescale=1./255,validation_split=0.2)\n",
    "\n",
    "train_data = train_datagen.flow_from_directory(\n",
    "        path_train,\n",
    "        subset='training',\n",
    "        target_size=(200 , 200),\n",
    "        batch_size=32)\n",
    "\n",
    "val_data = train_datagen.flow_from_directory(\n",
    "        path_train,\n",
    "        subset='validation',\n",
    "        target_size=(200 , 200),\n",
    "        batch_size=32 )\n",
    "test_data = train_datagen.flow_from_directory(\n",
    "        path_test,\n",
    "        target_size=(200 , 200),\n",
    "        batch_size=32 )"
   ]
  },
  {
   "cell_type": "code",
   "execution_count": 24,
   "id": "9bca0cd4",
   "metadata": {},
   "outputs": [],
   "source": [
    "from keras.models import Sequential\n",
    "from keras.layers import Flatten,Activation,Dense,Dropout,Conv2D,MaxPool2D"
   ]
  },
  {
   "cell_type": "code",
   "execution_count": 25,
   "id": "0c4ebebd",
   "metadata": {},
   "outputs": [
    {
     "name": "stdout",
     "output_type": "stream",
     "text": [
      "Model: \"sequential_1\"\n",
      "_________________________________________________________________\n",
      "Layer (type)                 Output Shape              Param #   \n",
      "=================================================================\n",
      "conv2d_1 (Conv2D)            (None, 99, 99, 25)        700       \n",
      "_________________________________________________________________\n",
      "activation_3 (Activation)    (None, 99, 99, 25)        0         \n",
      "_________________________________________________________________\n",
      "max_pooling2d_1 (MaxPooling2 (None, 49, 49, 25)        0         \n",
      "_________________________________________________________________\n",
      "flatten_1 (Flatten)          (None, 60025)             0         \n",
      "_________________________________________________________________\n",
      "dense_2 (Dense)              (None, 16)                960416    \n",
      "_________________________________________________________________\n",
      "activation_4 (Activation)    (None, 16)                0         \n",
      "_________________________________________________________________\n",
      "dense_3 (Dense)              (None, 4)                 68        \n",
      "_________________________________________________________________\n",
      "activation_5 (Activation)    (None, 4)                 0         \n",
      "=================================================================\n",
      "Total params: 961,184\n",
      "Trainable params: 961,184\n",
      "Non-trainable params: 0\n",
      "_________________________________________________________________\n"
     ]
    }
   ],
   "source": [
    "model =Sequential()\n",
    "\n",
    "#convolution and maxpoollayer\n",
    "model.add(Conv2D(filters=25,kernel_size=3,\n",
    "                 strides=2,padding='valid',input_shape=(200,200,3)))\n",
    "model.add(Activation('relu'))\n",
    "model.add(MaxPool2D(pool_size=2))\n",
    "\n",
    "#flatten layer\n",
    "model.add(Flatten())\n",
    "\n",
    "#hidden layer\n",
    "model.add(Dense(16))\n",
    "model.add(Activation('relu'))\n",
    "\n",
    "#output layer\n",
    "model.add(Dense(4))\n",
    "model.add(Activation('sigmoid'))\n",
    "\n",
    "\n",
    "model.summary()"
   ]
  },
  {
   "cell_type": "code",
   "execution_count": 26,
   "id": "e59aa4f7",
   "metadata": {},
   "outputs": [],
   "source": [
    "model.compile(optimizer='adam',loss='categorical_crossentropy',metrics=['accuracy'])"
   ]
  },
  {
   "cell_type": "code",
   "execution_count": 27,
   "id": "29051e3a",
   "metadata": {},
   "outputs": [
    {
     "name": "stdout",
     "output_type": "stream",
     "text": [
      "Epoch 1/10\n",
      "72/72 [==============================] - 13s 185ms/step - loss: 0.9136 - accuracy: 0.5951 - val_loss: 1.1678 - val_accuracy: 0.4939\n",
      "Epoch 2/10\n",
      "72/72 [==============================] - 13s 179ms/step - loss: 0.4769 - accuracy: 0.7963 - val_loss: 1.1330 - val_accuracy: 0.5079\n",
      "Epoch 3/10\n",
      "72/72 [==============================] - 13s 178ms/step - loss: 0.2699 - accuracy: 0.8907 - val_loss: 0.9607 - val_accuracy: 0.6789\n",
      "Epoch 4/10\n",
      "72/72 [==============================] - 14s 188ms/step - loss: 0.1569 - accuracy: 0.9408 - val_loss: 1.0266 - val_accuracy: 0.6876\n",
      "Epoch 5/10\n",
      "72/72 [==============================] - 14s 193ms/step - loss: 0.1045 - accuracy: 0.9608 - val_loss: 1.1560 - val_accuracy: 0.6632\n",
      "Epoch 6/10\n",
      "72/72 [==============================] - 13s 186ms/step - loss: 0.0820 - accuracy: 0.9652 - val_loss: 1.0457 - val_accuracy: 0.6894\n",
      "Epoch 7/10\n",
      "72/72 [==============================] - 14s 188ms/step - loss: 0.0435 - accuracy: 0.9782 - val_loss: 1.1059 - val_accuracy: 0.6806\n",
      "Epoch 8/10\n",
      "72/72 [==============================] - 13s 184ms/step - loss: 0.0331 - accuracy: 0.9795 - val_loss: 1.2410 - val_accuracy: 0.6859\n",
      "Epoch 9/10\n",
      "72/72 [==============================] - 14s 188ms/step - loss: 0.0252 - accuracy: 0.9804 - val_loss: 1.3059 - val_accuracy: 0.6736\n",
      "Epoch 10/10\n",
      "72/72 [==============================] - 14s 188ms/step - loss: 0.0224 - accuracy: 0.9808 - val_loss: 1.5078 - val_accuracy: 0.6353\n"
     ]
    }
   ],
   "source": [
    "history=model.fit (train_data,epochs=10, validation_data=val_data)"
   ]
  },
  {
   "cell_type": "code",
   "execution_count": 28,
   "id": "68f02899",
   "metadata": {},
   "outputs": [
    {
     "data": {
      "image/png": "[encoded data removed]",
      "text/plain": [
       "<Figure size 432x288 with 1 Axes>"
      ]
     },
     "metadata": {
      "needs_background": "light"
     },
     "output_type": "display_data"
    }
   ],
   "source": [
    "plt.plot(history.history['accuracy'],label='accuracy')\n",
    "plt.plot(history.history['val_accuracy'],label='val_accuracy')\n",
    "plt.legend()\n",
    "plt.title('Accuracy Vs Epochs of CNN')\n",
    "plt.xlabel('Epochs')\n",
    "plt.ylabel('Accuracy');"
   ]
  },
  {
   "cell_type": "code",
   "execution_count": 29,
   "id": "69f5950e",
   "metadata": {},
   "outputs": [
    {
     "name": "stdout",
     "output_type": "stream",
     "text": [
      "72/72 [==============================] - 8s 108ms/step - loss: 0.0218 - accuracy: 0.9813\n"
     ]
    },
    {
     "data": {
      "text/plain": [
       "[0.02177371457219124, 0.9812799096107483]"
      ]
     },
     "execution_count": 29,
     "metadata": {},
     "output_type": "execute_result"
    }
   ],
   "source": [
    "model.evaluate(train_data)"
   ]
  },
  {
   "cell_type": "code",
   "execution_count": 30,
   "id": "11f7fb7d",
   "metadata": {},
   "outputs": [
    {
     "name": "stdout",
     "output_type": "stream",
     "text": [
      "13/13 [==============================] - 1s 84ms/step - loss: 3.6601 - accuracy: 0.6015\n"
     ]
    },
    {
     "data": {
      "text/plain": [
       "[3.6601293087005615, 0.6015228629112244]"
      ]
     },
     "execution_count": 30,
     "metadata": {},
     "output_type": "execute_result"
    }
   ],
   "source": [
    "model.evaluate(test_data)"
   ]
  },
  {
   "cell_type": "code",
   "execution_count": 31,
   "id": "5abc3389",
   "metadata": {},
   "outputs": [
    {
     "data": {
      "text/plain": [
       "array([[8.0652995e-10, 8.7902063e-06, 1.0455549e-03, 6.5645218e-11],\n",
       "       [6.4511988e-14, 4.2591587e-08, 7.3915274e-10, 8.1948419e-06],\n",
       "       [1.2945144e-06, 5.0616264e-04, 4.6535476e-08, 2.0486009e-08],\n",
       "       ...,\n",
       "       [5.7215011e-17, 1.5318602e-02, 6.2727928e-04, 4.6565779e-05],\n",
       "       [2.2129334e-06, 8.5812509e-03, 5.5623354e-05, 2.8578556e-06],\n",
       "       [6.7938454e-12, 9.8761481e-01, 9.9999899e-01, 1.9607052e-10]],\n",
       "      dtype=float32)"
      ]
     },
     "execution_count": 31,
     "metadata": {},
     "output_type": "execute_result"
    }
   ],
   "source": [
    "y_predicte=model.predict(test_data)\n",
    "y_predicte"
   ]
  },
  {
   "cell_type": "code",
   "execution_count": 32,
   "id": "ac920e9d",
   "metadata": {},
   "outputs": [
    {
     "name": "stdout",
     "output_type": "stream",
     "text": [
      "no_tumor\n",
      "pituitary_tumor\n",
      "meningioma_tumor\n",
      "pituitary_tumor\n",
      "no_tumor\n",
      "meningioma_tumor\n",
      "no_tumor\n",
      "meningioma_tumor\n",
      "no_tumor\n",
      "no_tumor\n",
      "no_tumor\n",
      "meningioma_tumor\n",
      "pituitary_tumor\n",
      "pituitary_tumor\n",
      "meningioma_tumor\n",
      "meningioma_tumor\n",
      "no_tumor\n",
      "no_tumor\n",
      "meningioma_tumor\n",
      "meningioma_tumor\n",
      "meningioma_tumor\n",
      "meningioma_tumor\n",
      "no_tumor\n",
      "meningioma_tumor\n",
      "no_tumor\n",
      "no_tumor\n",
      "no_tumor\n",
      "no_tumor\n",
      "meningioma_tumor\n",
      "pituitary_tumor\n",
      "meningioma_tumor\n",
      "meningioma_tumor\n",
      "no_tumor\n",
      "no_tumor\n",
      "pituitary_tumor\n",
      "no_tumor\n",
      "meningioma_tumor\n",
      "meningioma_tumor\n",
      "meningioma_tumor\n",
      "no_tumor\n",
      "glioma_tumor\n",
      "no_tumor\n",
      "pituitary_tumor\n",
      "glioma_tumor\n",
      "no_tumor\n",
      "meningioma_tumor\n",
      "no_tumor\n",
      "pituitary_tumor\n",
      "pituitary_tumor\n",
      "meningioma_tumor\n",
      "no_tumor\n",
      "meningioma_tumor\n",
      "no_tumor\n",
      "glioma_tumor\n",
      "meningioma_tumor\n",
      "meningioma_tumor\n",
      "meningioma_tumor\n",
      "pituitary_tumor\n",
      "no_tumor\n",
      "no_tumor\n",
      "no_tumor\n",
      "no_tumor\n",
      "no_tumor\n",
      "glioma_tumor\n",
      "meningioma_tumor\n",
      "meningioma_tumor\n",
      "no_tumor\n",
      "no_tumor\n",
      "pituitary_tumor\n",
      "no_tumor\n",
      "no_tumor\n",
      "glioma_tumor\n",
      "meningioma_tumor\n",
      "no_tumor\n",
      "no_tumor\n",
      "meningioma_tumor\n",
      "no_tumor\n",
      "meningioma_tumor\n",
      "no_tumor\n",
      "no_tumor\n",
      "no_tumor\n",
      "meningioma_tumor\n",
      "meningioma_tumor\n",
      "meningioma_tumor\n",
      "meningioma_tumor\n",
      "pituitary_tumor\n",
      "no_tumor\n",
      "meningioma_tumor\n",
      "no_tumor\n",
      "no_tumor\n",
      "no_tumor\n",
      "meningioma_tumor\n",
      "no_tumor\n",
      "glioma_tumor\n",
      "pituitary_tumor\n",
      "meningioma_tumor\n",
      "no_tumor\n",
      "pituitary_tumor\n",
      "no_tumor\n",
      "meningioma_tumor\n",
      "no_tumor\n",
      "no_tumor\n",
      "meningioma_tumor\n",
      "no_tumor\n",
      "no_tumor\n",
      "glioma_tumor\n",
      "meningioma_tumor\n",
      "meningioma_tumor\n",
      "glioma_tumor\n",
      "no_tumor\n",
      "meningioma_tumor\n",
      "no_tumor\n",
      "no_tumor\n",
      "pituitary_tumor\n",
      "meningioma_tumor\n",
      "no_tumor\n",
      "no_tumor\n",
      "no_tumor\n",
      "pituitary_tumor\n",
      "meningioma_tumor\n",
      "meningioma_tumor\n",
      "pituitary_tumor\n",
      "glioma_tumor\n",
      "no_tumor\n",
      "pituitary_tumor\n",
      "no_tumor\n",
      "meningioma_tumor\n",
      "no_tumor\n",
      "no_tumor\n",
      "meningioma_tumor\n",
      "glioma_tumor\n",
      "pituitary_tumor\n",
      "no_tumor\n",
      "no_tumor\n",
      "no_tumor\n",
      "pituitary_tumor\n",
      "pituitary_tumor\n",
      "no_tumor\n",
      "meningioma_tumor\n",
      "no_tumor\n",
      "meningioma_tumor\n",
      "no_tumor\n",
      "meningioma_tumor\n",
      "meningioma_tumor\n",
      "pituitary_tumor\n",
      "meningioma_tumor\n",
      "no_tumor\n",
      "no_tumor\n",
      "no_tumor\n",
      "pituitary_tumor\n",
      "no_tumor\n",
      "meningioma_tumor\n",
      "glioma_tumor\n",
      "no_tumor\n",
      "meningioma_tumor\n",
      "no_tumor\n",
      "no_tumor\n",
      "no_tumor\n",
      "no_tumor\n",
      "meningioma_tumor\n",
      "no_tumor\n",
      "pituitary_tumor\n",
      "no_tumor\n",
      "no_tumor\n",
      "no_tumor\n",
      "no_tumor\n",
      "meningioma_tumor\n",
      "meningioma_tumor\n",
      "meningioma_tumor\n",
      "no_tumor\n",
      "pituitary_tumor\n",
      "meningioma_tumor\n",
      "meningioma_tumor\n",
      "no_tumor\n",
      "meningioma_tumor\n",
      "meningioma_tumor\n",
      "meningioma_tumor\n",
      "meningioma_tumor\n",
      "no_tumor\n",
      "no_tumor\n",
      "meningioma_tumor\n",
      "no_tumor\n",
      "no_tumor\n",
      "pituitary_tumor\n",
      "meningioma_tumor\n",
      "no_tumor\n",
      "no_tumor\n",
      "meningioma_tumor\n",
      "no_tumor\n",
      "meningioma_tumor\n",
      "no_tumor\n",
      "no_tumor\n",
      "no_tumor\n",
      "meningioma_tumor\n",
      "no_tumor\n",
      "meningioma_tumor\n",
      "meningioma_tumor\n",
      "glioma_tumor\n",
      "no_tumor\n",
      "no_tumor\n",
      "meningioma_tumor\n",
      "meningioma_tumor\n",
      "no_tumor\n",
      "no_tumor\n",
      "no_tumor\n",
      "no_tumor\n",
      "no_tumor\n",
      "meningioma_tumor\n",
      "no_tumor\n",
      "meningioma_tumor\n",
      "meningioma_tumor\n",
      "meningioma_tumor\n",
      "no_tumor\n",
      "no_tumor\n",
      "no_tumor\n",
      "no_tumor\n",
      "no_tumor\n",
      "no_tumor\n",
      "meningioma_tumor\n",
      "no_tumor\n",
      "meningioma_tumor\n",
      "no_tumor\n",
      "no_tumor\n",
      "meningioma_tumor\n",
      "no_tumor\n",
      "no_tumor\n",
      "meningioma_tumor\n",
      "meningioma_tumor\n",
      "meningioma_tumor\n",
      "meningioma_tumor\n",
      "no_tumor\n",
      "pituitary_tumor\n",
      "meningioma_tumor\n",
      "meningioma_tumor\n",
      "meningioma_tumor\n",
      "meningioma_tumor\n",
      "no_tumor\n",
      "meningioma_tumor\n",
      "no_tumor\n",
      "no_tumor\n",
      "meningioma_tumor\n",
      "meningioma_tumor\n",
      "no_tumor\n",
      "meningioma_tumor\n",
      "no_tumor\n",
      "no_tumor\n",
      "no_tumor\n",
      "no_tumor\n",
      "meningioma_tumor\n",
      "no_tumor\n",
      "meningioma_tumor\n",
      "no_tumor\n",
      "pituitary_tumor\n",
      "no_tumor\n",
      "no_tumor\n",
      "no_tumor\n",
      "no_tumor\n",
      "pituitary_tumor\n",
      "no_tumor\n",
      "glioma_tumor\n",
      "meningioma_tumor\n",
      "no_tumor\n",
      "no_tumor\n",
      "no_tumor\n",
      "no_tumor\n",
      "no_tumor\n",
      "no_tumor\n",
      "meningioma_tumor\n",
      "no_tumor\n",
      "meningioma_tumor\n",
      "meningioma_tumor\n",
      "no_tumor\n",
      "meningioma_tumor\n",
      "no_tumor\n",
      "no_tumor\n",
      "meningioma_tumor\n",
      "no_tumor\n",
      "no_tumor\n",
      "meningioma_tumor\n",
      "no_tumor\n",
      "glioma_tumor\n",
      "pituitary_tumor\n",
      "no_tumor\n",
      "meningioma_tumor\n",
      "meningioma_tumor\n",
      "no_tumor\n",
      "pituitary_tumor\n",
      "meningioma_tumor\n",
      "no_tumor\n",
      "no_tumor\n",
      "meningioma_tumor\n",
      "meningioma_tumor\n",
      "no_tumor\n",
      "meningioma_tumor\n",
      "meningioma_tumor\n",
      "pituitary_tumor\n",
      "meningioma_tumor\n",
      "no_tumor\n",
      "no_tumor\n",
      "meningioma_tumor\n",
      "meningioma_tumor\n",
      "pituitary_tumor\n",
      "meningioma_tumor\n",
      "no_tumor\n",
      "meningioma_tumor\n",
      "pituitary_tumor\n",
      "no_tumor\n",
      "meningioma_tumor\n",
      "meningioma_tumor\n",
      "no_tumor\n",
      "pituitary_tumor\n",
      "no_tumor\n",
      "no_tumor\n",
      "no_tumor\n",
      "no_tumor\n",
      "no_tumor\n",
      "no_tumor\n",
      "meningioma_tumor\n",
      "meningioma_tumor\n",
      "no_tumor\n",
      "meningioma_tumor\n",
      "meningioma_tumor\n",
      "glioma_tumor\n",
      "meningioma_tumor\n",
      "glioma_tumor\n",
      "meningioma_tumor\n",
      "glioma_tumor\n",
      "no_tumor\n",
      "no_tumor\n",
      "no_tumor\n",
      "no_tumor\n",
      "no_tumor\n",
      "meningioma_tumor\n",
      "meningioma_tumor\n",
      "meningioma_tumor\n",
      "pituitary_tumor\n",
      "meningioma_tumor\n",
      "no_tumor\n",
      "no_tumor\n",
      "meningioma_tumor\n",
      "meningioma_tumor\n",
      "meningioma_tumor\n",
      "no_tumor\n",
      "no_tumor\n",
      "meningioma_tumor\n",
      "meningioma_tumor\n",
      "meningioma_tumor\n",
      "meningioma_tumor\n",
      "no_tumor\n",
      "pituitary_tumor\n",
      "no_tumor\n",
      "no_tumor\n",
      "no_tumor\n",
      "no_tumor\n",
      "pituitary_tumor\n",
      "no_tumor\n",
      "no_tumor\n",
      "meningioma_tumor\n",
      "meningioma_tumor\n",
      "no_tumor\n",
      "glioma_tumor\n",
      "no_tumor\n",
      "no_tumor\n",
      "pituitary_tumor\n",
      "no_tumor\n",
      "no_tumor\n",
      "no_tumor\n",
      "no_tumor\n",
      "no_tumor\n",
      "meningioma_tumor\n",
      "no_tumor\n",
      "meningioma_tumor\n",
      "no_tumor\n",
      "meningioma_tumor\n",
      "no_tumor\n",
      "no_tumor\n",
      "meningioma_tumor\n",
      "meningioma_tumor\n",
      "pituitary_tumor\n",
      "no_tumor\n",
      "meningioma_tumor\n",
      "no_tumor\n",
      "no_tumor\n",
      "meningioma_tumor\n",
      "meningioma_tumor\n",
      "meningioma_tumor\n",
      "no_tumor\n",
      "pituitary_tumor\n",
      "no_tumor\n",
      "meningioma_tumor\n",
      "meningioma_tumor\n",
      "meningioma_tumor\n",
      "meningioma_tumor\n",
      "no_tumor\n"
     ]
    }
   ],
   "source": [
    "tumor_classes=['glioma_tumor', 'meningioma_tumor', 'no_tumor', 'pituitary_tumor']\n",
    "for i in range (len(y_predicte)):\n",
    "    predicted_tumor=tumor_classes[np.argmax(y_predicte[i])]\n",
    "    print(predicted_tumor)"
   ]
  },
  {
   "cell_type": "code",
   "execution_count": null,
   "id": "a7a1ea1a",
   "metadata": {},
   "outputs": [],
   "source": []
  },
  {
   "cell_type": "code",
   "execution_count": null,
   "id": "6cb2f193",
   "metadata": {},
   "outputs": [],
   "source": []
  }
 ],
 "metadata": {
  "kernelspec": {
   "display_name": "Python 3",
   "language": "python",
   "name": "python3"
  },
  "language_info": {
   "codemirror_mode": {
    "name": "ipython",
    "version": 3
   },
   "file_extension": ".py",
   "mimetype": "text/x-python",
   "name": "python",
   "nbconvert_exporter": "python",
   "pygments_lexer": "ipython3",
   "version": "3.8.8"
  }
 },
 "nbformat": 4,
 "nbformat_minor": 5
}
